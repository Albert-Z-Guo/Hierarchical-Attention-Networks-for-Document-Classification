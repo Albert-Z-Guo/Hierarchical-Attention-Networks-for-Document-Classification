{
 "cells": [
  {
   "cell_type": "code",
   "execution_count": 1,
   "metadata": {
    "scrolled": true
   },
   "outputs": [
    {
     "name": "stderr",
     "output_type": "stream",
     "text": [
      "/usr/local/lib/python3.8/site-packages/tqdm/std.py:668: FutureWarning: The Panel class is removed from pandas. Accessing it from the top-level namespace will also be removed in the next version\n",
      "  from pandas import Panel\n"
     ]
    }
   ],
   "source": [
    "import json\n",
    "import re\n",
    "\n",
    "from matplotlib import pyplot as plt\n",
    "import numpy as np\n",
    "import pandas as pd\n",
    "from sklearn.model_selection import train_test_split\n",
    "import spacy\n",
    "from tensorflow.keras.preprocessing.text import Tokenizer\n",
    "from tqdm import tqdm\n",
    "\n",
    "nlp = spacy.load('en_core_web_sm', disable=['tagger', 'ner', 'entity_linker', 'textcat', 'entity_ruler'])\n",
    "pd.set_option('display.max_colwidth', None)\n",
    "tqdm.pandas()"
   ]
  },
  {
   "cell_type": "markdown",
   "metadata": {},
   "source": [
    "### generate training, validation, and test data"
   ]
  },
  {
   "cell_type": "code",
   "execution_count": 2,
   "metadata": {},
   "outputs": [],
   "source": [
    "# download movie review data from https://www.kaggle.com/c/word2vec-nlp-tutorial/data\n",
    "df = pd.read_csv('data/labeledTrainData.tsv', sep='\\t', dtype=str)"
   ]
  },
  {
   "cell_type": "code",
   "execution_count": 3,
   "metadata": {
    "scrolled": true
   },
   "outputs": [
    {
     "data": {
      "text/html": [
       "<div>\n",
       "<style scoped>\n",
       "    .dataframe tbody tr th:only-of-type {\n",
       "        vertical-align: middle;\n",
       "    }\n",
       "\n",
       "    .dataframe tbody tr th {\n",
       "        vertical-align: top;\n",
       "    }\n",
       "\n",
       "    .dataframe thead th {\n",
       "        text-align: right;\n",
       "    }\n",
       "</style>\n",
       "<table border=\"1\" class=\"dataframe\">\n",
       "  <thead>\n",
       "    <tr style=\"text-align: right;\">\n",
       "      <th></th>\n",
       "      <th>id</th>\n",
       "      <th>sentiment</th>\n",
       "      <th>review</th>\n",
       "    </tr>\n",
       "  </thead>\n",
       "  <tbody>\n",
       "    <tr>\n",
       "      <th>0</th>\n",
       "      <td>5814_8</td>\n",
       "      <td>1</td>\n",
       "      <td>With all this stuff going down at the moment with MJ i've started listening to his music, watching the odd documentary here and there, watched The Wiz and watched Moonwalker again. Maybe i just want to get a certain insight into this guy who i thought was really cool in the eighties just to maybe make up my mind whether he is guilty or innocent. Moonwalker is part biography, part feature film which i remember going to see at the cinema when it was originally released. Some of it has subtle messages about MJ's feeling towards the press and also the obvious message of drugs are bad m'kay.&lt;br /&gt;&lt;br /&gt;Visually impressive but of course this is all about Michael Jackson so unless you remotely like MJ in anyway then you are going to hate this and find it boring. Some may call MJ an egotist for consenting to the making of this movie BUT MJ and most of his fans would say that he made it for the fans which if true is really nice of him.&lt;br /&gt;&lt;br /&gt;The actual feature film bit when it finally starts is only on for 20 minutes or so excluding the Smooth Criminal sequence and Joe Pesci is convincing as a psychopathic all powerful drug lord. Why he wants MJ dead so bad is beyond me. Because MJ overheard his plans? Nah, Joe Pesci's character ranted that he wanted people to know it is he who is supplying drugs etc so i dunno, maybe he just hates MJ's music.&lt;br /&gt;&lt;br /&gt;Lots of cool things in this like MJ turning into a car and a robot and the whole Speed Demon sequence. Also, the director must have had the patience of a saint when it came to filming the kiddy Bad sequence as usually directors hate working with one kid let alone a whole bunch of them performing a complex dance scene.&lt;br /&gt;&lt;br /&gt;Bottom line, this movie is for people who like MJ on one level or another (which i think is most people). If not, then stay away. It does try and give off a wholesome message and ironically MJ's bestest buddy in this movie is a girl! Michael Jackson is truly one of the most talented people ever to grace this planet but is he guilty? Well, with all the attention i've gave this subject....hmmm well i don't know because people can be different behind closed doors, i know this for a fact. He is either an extremely nice but stupid guy or one of the most sickest liars. I hope he is not the latter.</td>\n",
       "    </tr>\n",
       "  </tbody>\n",
       "</table>\n",
       "</div>"
      ],
      "text/plain": [
       "       id sentiment  \\\n",
       "0  5814_8         1   \n",
       "\n",
       "                                                                                                                                                                                                                                                                                                                                                                                                                                                                                                                                                                                                                                                                                                                                                                                                                                                                                                                                                                                                                                                                                                                                                                                                                                                                                                                                                                                                                                                                                                                                                                                                                                                                                                                                                                                                                                                                                                                                                                                                                                                                                                                                                                                                                                                                                                                                                                                           review  \n",
       "0  With all this stuff going down at the moment with MJ i've started listening to his music, watching the odd documentary here and there, watched The Wiz and watched Moonwalker again. Maybe i just want to get a certain insight into this guy who i thought was really cool in the eighties just to maybe make up my mind whether he is guilty or innocent. Moonwalker is part biography, part feature film which i remember going to see at the cinema when it was originally released. Some of it has subtle messages about MJ's feeling towards the press and also the obvious message of drugs are bad m'kay.<br /><br />Visually impressive but of course this is all about Michael Jackson so unless you remotely like MJ in anyway then you are going to hate this and find it boring. Some may call MJ an egotist for consenting to the making of this movie BUT MJ and most of his fans would say that he made it for the fans which if true is really nice of him.<br /><br />The actual feature film bit when it finally starts is only on for 20 minutes or so excluding the Smooth Criminal sequence and Joe Pesci is convincing as a psychopathic all powerful drug lord. Why he wants MJ dead so bad is beyond me. Because MJ overheard his plans? Nah, Joe Pesci's character ranted that he wanted people to know it is he who is supplying drugs etc so i dunno, maybe he just hates MJ's music.<br /><br />Lots of cool things in this like MJ turning into a car and a robot and the whole Speed Demon sequence. Also, the director must have had the patience of a saint when it came to filming the kiddy Bad sequence as usually directors hate working with one kid let alone a whole bunch of them performing a complex dance scene.<br /><br />Bottom line, this movie is for people who like MJ on one level or another (which i think is most people). If not, then stay away. It does try and give off a wholesome message and ironically MJ's bestest buddy in this movie is a girl! Michael Jackson is truly one of the most talented people ever to grace this planet but is he guilty? Well, with all the attention i've gave this subject....hmmm well i don't know because people can be different behind closed doors, i know this for a fact. He is either an extremely nice but stupid guy or one of the most sickest liars. I hope he is not the latter.  "
      ]
     },
     "execution_count": 3,
     "metadata": {},
     "output_type": "execute_result"
    }
   ],
   "source": [
    "df.head(1)"
   ]
  },
  {
   "cell_type": "code",
   "execution_count": 4,
   "metadata": {
    "scrolled": true
   },
   "outputs": [
    {
     "data": {
      "text/plain": [
       "(25000, 3)"
      ]
     },
     "execution_count": 4,
     "metadata": {},
     "output_type": "execute_result"
    }
   ],
   "source": [
    "df.shape"
   ]
  },
  {
   "cell_type": "code",
   "execution_count": 5,
   "metadata": {},
   "outputs": [],
   "source": [
    "df['review'] = df['review'].apply(lambda text: re.compile(r'<br />').sub('\\n', text))"
   ]
  },
  {
   "cell_type": "code",
   "execution_count": 6,
   "metadata": {},
   "outputs": [],
   "source": [
    "labels_categorical = pd.get_dummies(df['sentiment'])\n",
    "index_label_dict = {i: label for i, label in enumerate(labels_categorical.columns)}"
   ]
  },
  {
   "cell_type": "code",
   "execution_count": 7,
   "metadata": {},
   "outputs": [
    {
     "name": "stdout",
     "output_type": "stream",
     "text": [
      "CPU times: user 27.9 s, sys: 770 ms, total: 28.7 s\n",
      "Wall time: 44 s\n"
     ]
    }
   ],
   "source": [
    "%%time\n",
    "MAX_NUM_VOCAB = 20000 # max num of vocabulary \n",
    "tokenizer = Tokenizer(num_words=MAX_NUM_VOCAB, filters='!\"#$%&()*+,-./:;<=>?@[\\\\]^_`{|}~\\t\\n', lower=True,\n",
    "                      split=' ', char_level=False, oov_token='<UNK>')\n",
    "tokenizer.fit_on_texts(df['review'].values)\n",
    "with open('data/tokenizer.json', 'w') as f:\n",
    "    json.dump(tokenizer.to_json(), f)"
   ]
  },
  {
   "cell_type": "code",
   "execution_count": 8,
   "metadata": {},
   "outputs": [
    {
     "name": "stderr",
     "output_type": "stream",
     "text": [
      "100%|██████████| 25000/25000 [42:32<00:00,  9.79it/s]  \n"
     ]
    }
   ],
   "source": [
    "def split_sentence(text):\n",
    "    return [sentence.text.strip() for sentence in nlp(text).sents]\n",
    "\n",
    "df['review_segmented'] = df['review'].progress_apply(lambda text: split_sentence(text))"
   ]
  },
  {
   "cell_type": "code",
   "execution_count": 9,
   "metadata": {},
   "outputs": [
    {
     "name": "stdout",
     "output_type": "stream",
     "text": [
      "CPU times: user 31.9 s, sys: 761 ms, total: 32.7 s\n",
      "Wall time: 50.3 s\n"
     ]
    }
   ],
   "source": [
    "%%time\n",
    "num_sentences_in_doc_list = [len(sentence_list) for sentence_list in df['review_segmented']]\n",
    "num_tokens_in_sentence_list = [len(sentence_tokenized) for sentence_tokenized in tokenizer.texts_to_sequences([sentence for sentence_list in df['review_segmented'] for sentence in sentence_list])]"
   ]
  },
  {
   "cell_type": "code",
   "execution_count": 10,
   "metadata": {},
   "outputs": [
    {
     "data": {
      "image/png": "[encoded data removed]",
      "text/plain": [
       "<Figure size 1080x360 with 2 Axes>"
      ]
     },
     "metadata": {
      "needs_background": "light"
     },
     "output_type": "display_data"
    }
   ],
   "source": [
    "fig, (ax1, ax2) = plt.subplots(nrows=1, ncols=2, figsize=(12,4), dpi=90) \n",
    "ax1.hist(num_sentences_in_doc_list, bins=15, label=f'99.9% percentile: {np.percentile(num_sentences_in_doc_list, 99.9):.1f}') \n",
    "ax1.set_xlabel('number of sentences in a document')\n",
    "ax1.legend() \n",
    "ax2.hist(num_tokens_in_sentence_list, bins=15, label=f'99.9% percentile: {np.percentile(num_tokens_in_sentence_list, 99.9):.1f}') \n",
    "ax2.set_xlabel('number of tokens in a sentence')\n",
    "ax2.legend()\n",
    "plt.show()"
   ]
  },
  {
   "cell_type": "code",
   "execution_count": 11,
   "metadata": {},
   "outputs": [],
   "source": [
    "df_train_val, df_test, labels_categorical_train_val, labels_categorical_test = train_test_split(df, labels_categorical, test_size=0.3, \n",
    "                                                                                                stratify=labels_categorical, random_state=42)\n",
    "\n",
    "df_train, df_val, labels_categorical_train, labels_categorical_val = train_test_split(df_train_val, labels_categorical_train_val, test_size=0.1, \n",
    "                                                                                      stratify=labels_categorical_train_val, random_state=42)"
   ]
  },
  {
   "cell_type": "code",
   "execution_count": 12,
   "metadata": {},
   "outputs": [],
   "source": [
    "MAX_NUM_SENTS = 80 # max num words in a sentence\n",
    "MAX_NUM_WORDS_IN_SENT = 85 # max num sentences in a document\n",
    "\n",
    "def generate_data(data_frame):\n",
    "    data = np.zeros((len(data_frame['review']), MAX_NUM_SENTS, MAX_NUM_WORDS_IN_SENT), dtype=np.int32)\n",
    "    for i, sentence_list in enumerate(tqdm(data_frame['review_segmented'])): \n",
    "        for j, sentence_tokenized in enumerate(tokenizer.texts_to_sequences(sentence_list)): \n",
    "            if j < MAX_NUM_SENTS: \n",
    "                k = 0 \n",
    "                for word_index in sentence_tokenized: \n",
    "                    if k < MAX_NUM_WORDS_IN_SENT: \n",
    "                        data[i, j, k]  = word_index \n",
    "                        k += 1 \n",
    "    return data "
   ]
  },
  {
   "cell_type": "code",
   "execution_count": 13,
   "metadata": {},
   "outputs": [
    {
     "name": "stderr",
     "output_type": "stream",
     "text": [
      "100%|██████████| 15750/15750 [00:45<00:00, 346.23it/s]\n",
      "100%|██████████| 1750/1750 [00:05<00:00, 347.48it/s]\n",
      "100%|██████████| 7500/7500 [00:21<00:00, 350.96it/s]\n"
     ]
    }
   ],
   "source": [
    "data_train = generate_data(df_train)\n",
    "data_val = generate_data(df_val)\n",
    "data_test = generate_data(df_test)\n",
    "\n",
    "np.save('data/data_train.npy', data_train)\n",
    "np.save('data/data_val.npy', data_val)\n",
    "np.save('data/data_test.npy', data_test)\n",
    "np.save('data/labels_categorical_train.npy', labels_categorical_train.astype(np.float32)) # same dtype as model's\n",
    "np.save('data/labels_categorical_val.npy', labels_categorical_val.astype(np.float32))\n",
    "np.save('data/labels_categorical_test.npy', labels_categorical_test.astype(np.float32))\n",
    "np.save('data/index_label_dict.npy', index_label_dict)"
   ]
  },
  {
   "cell_type": "markdown",
   "metadata": {},
   "source": [
    "### generate word embedding weights"
   ]
  },
  {
   "cell_type": "code",
   "execution_count": 14,
   "metadata": {},
   "outputs": [
    {
     "name": "stderr",
     "output_type": "stream",
     "text": [
      "100%|██████████| 400000/400000 [02:29<00:00, 2676.85it/s] \n"
     ]
    }
   ],
   "source": [
    "# download pre-trained word vectors from https://nlp.stanford.edu/projects/glove/\n",
    "EMBEDDING_DIM = 200\n",
    "GLOVE_EMBEDDING_PATH = f'glove.6B.{EMBEDDING_DIM}d.txt'\n",
    "\n",
    "word_vector_dict = dict()\n",
    "with open(GLOVE_EMBEDDING_PATH) as f:\n",
    "    for line in tqdm(f.readlines()):\n",
    "        line_split = line.split()\n",
    "        word_vector_dict[line_split[0]] = np.array(line_split[1:], dtype=np.float32)"
   ]
  },
  {
   "cell_type": "code",
   "execution_count": 15,
   "metadata": {},
   "outputs": [
    {
     "name": "stdout",
     "output_type": "stream",
     "text": [
      "word in pre-trained embedding: 19142 \n",
      "word not in pre-trained embedding: 857\n"
     ]
    }
   ],
   "source": [
    "# use mean vector as the unknown vector\n",
    "unk_vector = np.mean(np.array(list(word_vector_dict.values()), dtype=np.float32), axis=0)\n",
    "embedding_weights = np.zeros((MAX_NUM_VOCAB, EMBEDDING_DIM), dtype=np.float32)\n",
    "\n",
    "num_success, num_failure = 0, 0\n",
    "for (index, word) in tokenizer.index_word.items():\n",
    "    if index < MAX_NUM_VOCAB:\n",
    "        if word in word_vector_dict:\n",
    "            embedding_weights[index] = word_vector_dict[word]\n",
    "            num_success += 1\n",
    "        else:\n",
    "            embedding_weights[index] = unk_vector\n",
    "            num_failure += 1\n",
    "    else:\n",
    "        break\n",
    "            \n",
    "print('word in pre-trained embedding:', num_success, '\\nword not in pre-trained embedding:', num_failure)"
   ]
  },
  {
   "cell_type": "code",
   "execution_count": 16,
   "metadata": {},
   "outputs": [],
   "source": [
    "np.save('data/embedding_weights.npy', embedding_weights)"
   ]
  },
  {
   "cell_type": "code",
   "execution_count": null,
   "metadata": {},
   "outputs": [],
   "source": []
  }
 ],
 "metadata": {
  "kernelspec": {
   "display_name": "Python 3",
   "language": "python",
   "name": "python3"
  },
  "language_info": {
   "codemirror_mode": {
    "name": "ipython",
    "version": 3
   },
   "file_extension": ".py",
   "mimetype": "text/x-python",
   "name": "python",
   "nbconvert_exporter": "python",
   "pygments_lexer": "ipython3",
   "version": "3.8.5"
  }
 },
 "nbformat": 4,
 "nbformat_minor": 4
}
